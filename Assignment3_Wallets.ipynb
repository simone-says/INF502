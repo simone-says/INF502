{
 "cells": [
  {
   "cell_type": "code",
   "execution_count": null,
   "metadata": {},
   "outputs": [],
   "source": [
    "def main():\n",
    "    list_wallet= []\n",
    "    list_wallet.append(int(input(\"Enter cash value in Wallet 1\")))\n",
    "    list_wallet.append(int(input(\"Enter cash value in wallet 2\")))\n",
    "    list_wallet.append(int(input(\"Enter cash value in wallet 3\")))\n",
    "    list_wallet.append(int(input(\"Enter cash value in wallet 4\")))\n",
    "    list_wallet.append(int(input(\"Enter cash value in wallet 5\")))\n",
    "    print(list_wallet)\n",
    "    fat_wallet(list_wallet)\n",
    "    skinny_wallet(list_wallet)\n",
    "    total=add(list_wallet)\n",
    "    dime_value(list_wallet)"
   ]
  },
  {
   "cell_type": "markdown",
   "metadata": {},
   "source": [
    "First defined the main function, then created the list 'list_wallet'. Beginning on line 3, the user is prompted to enter a value for each of the 5 wallets using the 'input' function. The 'int' function is used because Python 3 processes user input as strings automatically, so this tells the algorithm that the user's response will be an integer. We then print the list so the output is sent to the user line-by-line. \n",
    "The last 4 lines are calling the following 4 functions. "
   ]
  },
  {
   "cell_type": "code",
   "execution_count": null,
   "metadata": {},
   "outputs": [],
   "source": [
    "def fat_wallet(list_wallet):\n",
    "    list_wallet.sort()\n",
    "    print(list_wallet)\n",
    "    print(\"The Fat Wallet has $\"+ str(list_wallet[4]))"
   ]
  },
  {
   "cell_type": "markdown",
   "metadata": {},
   "source": [
    "Defined the function to choose the wallet with the most money, then sorted the list and printed. Then printed the dialogue to the user and used 'str' function to convert the integer back to a string, telling the program to print the 5th value in the sorted list of wallet values."
   ]
  },
  {
   "cell_type": "code",
   "execution_count": null,
   "metadata": {},
   "outputs": [],
   "source": [
    "def skinny_wallet(list_wallet):\n",
    "    list_wallet.sort()\n",
    "    print(list_wallet)\n",
    "    print(\"The Skinny Wallet has $\"+ str(list_wallet[0]))"
   ]
  },
  {
   "cell_type": "markdown",
   "metadata": {},
   "source": [
    "Defined the function to choose the wallet with the least money, then sorted the list and printed. Then printed the dialogie to the user and converted the integer value back to a string, printing the first value (smallest amount of money) in the sorted list of wallet values. "
   ]
  },
  {
   "cell_type": "code",
   "execution_count": null,
   "metadata": {},
   "outputs": [],
   "source": [
    "def add(list_wallet):\n",
    "    total = sum(list_wallet)\n",
    "    print(\"In total, these wallets have $\"+ str(total))\n",
    "    return total"
   ]
  },
  {
   "cell_type": "markdown",
   "metadata": {},
   "source": [
    "Defined 'addem' function to sum all values in the list of wallets. Defined total variable, using 'sum' function to add all wallet values, then printed the total value to user (converted from an integer to a string). Returned total variable to main function to use in next 'dime_value\" function."
   ]
  },
  {
   "cell_type": "code",
   "execution_count": null,
   "metadata": {},
   "outputs": [],
   "source": [
    "def dime_value(total):\n",
    "    print(\"In total, the value of these wallets in dimes is \"+str(total * 10))\n",
    "    \n",
    "main()"
   ]
  },
  {
   "cell_type": "markdown",
   "metadata": {},
   "source": [
    "Defined function to output the total value in dimes. Printed the dime value to the user, converting the value from an integer to a string and multiplying the sum by 10 to convert to dimes. "
   ]
  }
 ],
 "metadata": {
  "kernelspec": {
   "display_name": "Python 3",
   "language": "python",
   "name": "python3"
  },
  "language_info": {
   "codemirror_mode": {
    "name": "ipython",
    "version": 3
   },
   "file_extension": ".py",
   "mimetype": "text/x-python",
   "name": "python",
   "nbconvert_exporter": "python",
   "pygments_lexer": "ipython3",
   "version": "3.8.3"
  }
 },
 "nbformat": 4,
 "nbformat_minor": 4
}
