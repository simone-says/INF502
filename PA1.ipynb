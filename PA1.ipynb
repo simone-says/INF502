{
 "cells": [
  {
   "cell_type": "code",
   "execution_count": null,
   "metadata": {},
   "outputs": [],
   "source": [
    "def main():\n",
    "\n",
    "    match(file1, file2)\n",
    "    contigs(file1, file2)\n",
    "    seq_shift(file1, file2)\n",
    "    chooseFile1 = input(\"What is the first sequence file you would like to test? Please enter filename in format 'seq#.txt' \")\n",
    "        try:\n",
    "            file1 = open(chooseFile1, 'r')\n",
    "        except IOError:\n",
    "            print(\"File does not exist. Please try again.\")\n",
    "    chooseFile2 = input(\"What is the second sequence file you would like to test?\")\n",
    "        try:\n",
    "            file2 = open(chooseFile2, 'r')\n",
    "        except IOError:\n",
    "            print(\"File does not exist. Please try again.\")\n",
    "\n",
    "    chooseMethod = input(\"Would you like to find the (1) match count or (2) maximum contiguous chain?\")\n",
    "        if chooseMethod == \"1\":\n",
    "            match(file1, file2)\n",
    "        elif chooseMethod == \"2\":\n",
    "            contigs(file1, file2)\n",
    "        else:\n",
    "            print(\"Please choose 1 or 2.\")\n",
    "    maxShift = input(int(\"What is the maximum amount of positions you would like to shift the sequences?\"))\n",
    "    dic_seq = {}\n",
    "#    seq1= \"ATGCCCTGA\"\n",
    "#   seq2= \"TGCCCATGA\""
   ]
  },
  {
   "cell_type": "markdown",
   "metadata": {},
   "source": [
    "I was not able to finish the PA due to some things that happened this week, so I will explain what I was trying to do in my approach.\n",
    "In my main function, I requested the necessary user inputs and added try/except blocks under each sequence file input request. In the Try clause I open the file that the user enters (or catch an invalid entry with the Except clause.) When requesting the choice of method, I use an if/elif/else statement to direct the strings to the requested function. The last input asks for the maximum shifts, only accepting integers to be used in the seq_shift function.  "
   ]
  },
  {
   "cell_type": "code",
   "execution_count": null,
   "metadata": {},
   "outputs": [],
   "source": [
    "def match(file1, file2):\n",
    "    match_count=0\n",
    "    for n in range(len(file1,file2)):\n",
    "        if file1[n]==file2[n]:\n",
    "            match_count +=1\n",
    "            print(\"Match count:\" + str(match_count))\n",
    "            return match_count"
   ]
  },
  {
   "cell_type": "markdown",
   "metadata": {},
   "source": [
    "In the match-counting function, I iterate through the sequences and use an if statement to align sequences pairwise and print the count of matches."
   ]
  },
  {
   "cell_type": "code",
   "execution_count": null,
   "metadata": {},
   "outputs": [],
   "source": [
    "def contigs(file1, file2):\n",
    "    contig_score = 0\n",
    "    max_score = 0\n",
    "    for n in range(len(file1)):\n",
    "        if file1[n] == file2[n]:\n",
    "            contig_score += 1\n",
    "            print(\"Contig score:\" + str(contig_score))\n",
    "        else:\n",
    "            if max_score < contig_score:\n",
    "                max_score = contig_score\n",
    "            else:\n",
    "                contig_score = 0\n",
    "        if max_score < contig_score:\n",
    "        print(max_score)\n",
    "        return(max_score)"
   ]
  },
  {
   "cell_type": "markdown",
   "metadata": {},
   "source": [
    "In the max contiguous chain function, a for loop is used to compare sequences pairwise for contiguity. The if/else statements produces the length of contiguous sequences found and prevents the function from overwriting a larger contiguous sequence count when a new one is found, thereby conserving the count of the largest contig."
   ]
  },
  {
   "cell_type": "code",
   "execution_count": null,
   "metadata": {},
   "outputs": [],
   "source": [
    "def seq_shift(file1, file2):\n",
    "    shift_amount = \"\"\n",
    "    with file1,file2 in range(0, maxShift):\n",
    "        for s in range(0,maxShift):\n",
    "            shift_amount = shift_amount + \"-\"\n",
    "        dic_seq[shift_amount: file1, file2]\n",
    "    print(shift_amount)\n",
    "    return (shift_amount)"
   ]
  },
  {
   "cell_type": "markdown",
   "metadata": {},
   "source": [
    "This function is meant to loop through the range of the shift amounts using a for loop, appending dashes to count for shifts, and saving the strings (sequences) in a dictionary with the shift amounts as keys."
   ]
  },
  {
   "cell_type": "code",
   "execution_count": null,
   "metadata": {},
   "outputs": [],
   "source": [
    "def best_score():\n",
    "    max(dic_seq, )\n",
    "\n",
    "\n",
    "main()"
   ]
  },
  {
   "cell_type": "markdown",
   "metadata": {},
   "source": [
    "This function is meant to choose the best scores for all of the shifted sequences by using the max() function to cycle through the dict keys and pick the highest score. "
   ]
  }
 ],
 "metadata": {
  "kernelspec": {
   "display_name": "Python 3",
   "language": "python",
   "name": "python3"
  },
  "language_info": {
   "codemirror_mode": {
    "name": "ipython",
    "version": 3
   },
   "file_extension": ".py",
   "mimetype": "text/x-python",
   "name": "python",
   "nbconvert_exporter": "python",
   "pygments_lexer": "ipython3",
   "version": "3.8.3"
  }
 },
 "nbformat": 4,
 "nbformat_minor": 4
}
