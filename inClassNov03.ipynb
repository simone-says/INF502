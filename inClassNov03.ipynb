{
 "cells": [
  {
   "cell_type": "markdown",
   "metadata": {},
   "source": [
    "In Class Assignment, Group Members: Simone Gable, Chloe Herman"
   ]
  },
  {
   "cell_type": "code",
   "execution_count": 13,
   "metadata": {},
   "outputs": [],
   "source": [
    "import requests\n",
    "import pandas\n",
    "import lxml\n",
    "import numpy as np\n",
    "import matplotlib.pyplot as plt\n",
    "from bs4 import BeautifulSoup"
   ]
  },
  {
   "cell_type": "code",
   "execution_count": 14,
   "metadata": {},
   "outputs": [],
   "source": [
    "countrydata = []\n",
    "kmAreadata = []\n",
    "miAreadata = []\n",
    "populationdata = []\n",
    "result = requests.get(\"https://en.wikipedia.org/wiki/List_of_countries_and_dependencies_by_population_density\")\n",
    "content = result.content\n",
    "soup = BeautifulSoup(content, 'html.parser')\n",
    "table = soup.table\n",
    "table_rows = table.find_all('tr')\n",
    "for tr in table_rows:\n",
    "    td = tr.find_all('td')\n",
    "    if len(td) > 1:\n",
    "        country = td[1]\n",
    "        countrystring = str(country.text)\n",
    "        countrystring = countrystring.strip()\n",
    "        kmArea = td[2]\n",
    "        kmAreaString = str(kmArea.text).strip()\n",
    "        kmAreaString = kmAreaString.replace(',', '')\n",
    "        kmAreaInt = float(kmAreaString)\n",
    "        miArea = td[3]\n",
    "        miAreaString = str(miArea.text).strip()\n",
    "        miAreaString = miAreaString.replace(',', '')\n",
    "        miAreaInt = float(miAreaString)\n",
    "        pop = td[4]\n",
    "        popString = str(pop.text).strip()\n",
    "        popString = popString.replace(',', '')\n",
    "        popInt = float(popString)\n",
    "        if countrystring != \"World (land only, excluding Antarctica)\" and countrystring != \"World (land only)\" :\n",
    "            countrydata.append(countrystring)\n",
    "            kmAreadata.append(kmAreaInt)\n",
    "            miAreadata.append(miAreaInt)\n",
    "            populationdata.append(popInt)\n",
    "country_DF = pandas.DataFrame(\n",
    "    {\n",
    "        'Country': countrydata,\n",
    "        'Area(km)': kmAreadata,\n",
    "        'Area(mi)' : miAreadata,\n",
    "        'Population' : populationdata\n",
    "\n",
    "    }\n",
    ")"
   ]
  },
  {
   "cell_type": "code",
   "execution_count": 15,
   "metadata": {},
   "outputs": [
    {
     "data": {
      "text/html": [
       "<div>\n",
       "<style scoped>\n",
       "    .dataframe tbody tr th:only-of-type {\n",
       "        vertical-align: middle;\n",
       "    }\n",
       "\n",
       "    .dataframe tbody tr th {\n",
       "        vertical-align: top;\n",
       "    }\n",
       "\n",
       "    .dataframe thead th {\n",
       "        text-align: right;\n",
       "    }\n",
       "</style>\n",
       "<table border=\"1\" class=\"dataframe\">\n",
       "  <thead>\n",
       "    <tr style=\"text-align: right;\">\n",
       "      <th></th>\n",
       "      <th>Country</th>\n",
       "      <th>Area(km)</th>\n",
       "      <th>Area(mi)</th>\n",
       "      <th>Population</th>\n",
       "    </tr>\n",
       "  </thead>\n",
       "  <tbody>\n",
       "    <tr>\n",
       "      <th>0</th>\n",
       "      <td>Macau (China)</td>\n",
       "      <td>115.30</td>\n",
       "      <td>45.00</td>\n",
       "      <td>696100.0</td>\n",
       "    </tr>\n",
       "    <tr>\n",
       "      <th>1</th>\n",
       "      <td>Monaco</td>\n",
       "      <td>2.02</td>\n",
       "      <td>0.78</td>\n",
       "      <td>38300.0</td>\n",
       "    </tr>\n",
       "    <tr>\n",
       "      <th>2</th>\n",
       "      <td>Singapore</td>\n",
       "      <td>722.50</td>\n",
       "      <td>279.00</td>\n",
       "      <td>5703600.0</td>\n",
       "    </tr>\n",
       "    <tr>\n",
       "      <th>3</th>\n",
       "      <td>Hong Kong (China)</td>\n",
       "      <td>1106.00</td>\n",
       "      <td>427.00</td>\n",
       "      <td>7500700.0</td>\n",
       "    </tr>\n",
       "    <tr>\n",
       "      <th>4</th>\n",
       "      <td>Gibraltar (United Kingdom)</td>\n",
       "      <td>6.80</td>\n",
       "      <td>2.60</td>\n",
       "      <td>33701.0</td>\n",
       "    </tr>\n",
       "  </tbody>\n",
       "</table>\n",
       "</div>"
      ],
      "text/plain": [
       "                      Country  Area(km)  Area(mi)  Population\n",
       "0               Macau (China)    115.30     45.00    696100.0\n",
       "1                      Monaco      2.02      0.78     38300.0\n",
       "2                   Singapore    722.50    279.00   5703600.0\n",
       "3           Hong Kong (China)   1106.00    427.00   7500700.0\n",
       "4  Gibraltar (United Kingdom)      6.80      2.60     33701.0"
      ]
     },
     "execution_count": 15,
     "metadata": {},
     "output_type": "execute_result"
    }
   ],
   "source": [
    "country_DF.head()"
   ]
  },
  {
   "cell_type": "code",
   "execution_count": 16,
   "metadata": {},
   "outputs": [
    {
     "data": {
      "text/html": [
       "<div>\n",
       "<style scoped>\n",
       "    .dataframe tbody tr th:only-of-type {\n",
       "        vertical-align: middle;\n",
       "    }\n",
       "\n",
       "    .dataframe tbody tr th {\n",
       "        vertical-align: top;\n",
       "    }\n",
       "\n",
       "    .dataframe thead th {\n",
       "        text-align: right;\n",
       "    }\n",
       "</style>\n",
       "<table border=\"1\" class=\"dataframe\">\n",
       "  <thead>\n",
       "    <tr style=\"text-align: right;\">\n",
       "      <th></th>\n",
       "      <th>Area(km)</th>\n",
       "      <th>Area(mi)</th>\n",
       "      <th>Population</th>\n",
       "    </tr>\n",
       "  </thead>\n",
       "  <tbody>\n",
       "    <tr>\n",
       "      <th>count</th>\n",
       "      <td>2.510000e+02</td>\n",
       "      <td>2.510000e+02</td>\n",
       "      <td>2.510000e+02</td>\n",
       "    </tr>\n",
       "    <tr>\n",
       "      <th>mean</th>\n",
       "      <td>5.432938e+05</td>\n",
       "      <td>2.097769e+05</td>\n",
       "      <td>3.047293e+07</td>\n",
       "    </tr>\n",
       "    <tr>\n",
       "      <th>std</th>\n",
       "      <td>1.716009e+06</td>\n",
       "      <td>6.625517e+05</td>\n",
       "      <td>1.283047e+08</td>\n",
       "    </tr>\n",
       "    <tr>\n",
       "      <th>min</th>\n",
       "      <td>4.900000e-01</td>\n",
       "      <td>1.900000e-01</td>\n",
       "      <td>5.600000e+01</td>\n",
       "    </tr>\n",
       "    <tr>\n",
       "      <th>25%</th>\n",
       "      <td>1.590200e+03</td>\n",
       "      <td>6.740000e+02</td>\n",
       "      <td>2.638290e+05</td>\n",
       "    </tr>\n",
       "    <tr>\n",
       "      <th>50%</th>\n",
       "      <td>6.456200e+04</td>\n",
       "      <td>2.492800e+04</td>\n",
       "      <td>4.475353e+06</td>\n",
       "    </tr>\n",
       "    <tr>\n",
       "      <th>75%</th>\n",
       "      <td>3.495840e+05</td>\n",
       "      <td>1.349750e+05</td>\n",
       "      <td>1.764158e+07</td>\n",
       "    </tr>\n",
       "    <tr>\n",
       "      <th>max</th>\n",
       "      <td>1.712524e+07</td>\n",
       "      <td>6.612093e+06</td>\n",
       "      <td>1.405181e+09</td>\n",
       "    </tr>\n",
       "  </tbody>\n",
       "</table>\n",
       "</div>"
      ],
      "text/plain": [
       "           Area(km)      Area(mi)    Population\n",
       "count  2.510000e+02  2.510000e+02  2.510000e+02\n",
       "mean   5.432938e+05  2.097769e+05  3.047293e+07\n",
       "std    1.716009e+06  6.625517e+05  1.283047e+08\n",
       "min    4.900000e-01  1.900000e-01  5.600000e+01\n",
       "25%    1.590200e+03  6.740000e+02  2.638290e+05\n",
       "50%    6.456200e+04  2.492800e+04  4.475353e+06\n",
       "75%    3.495840e+05  1.349750e+05  1.764158e+07\n",
       "max    1.712524e+07  6.612093e+06  1.405181e+09"
      ]
     },
     "execution_count": 16,
     "metadata": {},
     "output_type": "execute_result"
    }
   ],
   "source": [
    "country_DF[[\"Area(km)\", \"Area(mi)\", \"Population\"]].describe()"
   ]
  },
  {
   "cell_type": "code",
   "execution_count": 17,
   "metadata": {},
   "outputs": [
    {
     "data": {
      "text/html": [
       "<div>\n",
       "<style scoped>\n",
       "    .dataframe tbody tr th:only-of-type {\n",
       "        vertical-align: middle;\n",
       "    }\n",
       "\n",
       "    .dataframe tbody tr th {\n",
       "        vertical-align: top;\n",
       "    }\n",
       "\n",
       "    .dataframe thead th {\n",
       "        text-align: right;\n",
       "    }\n",
       "</style>\n",
       "<table border=\"1\" class=\"dataframe\">\n",
       "  <thead>\n",
       "    <tr style=\"text-align: right;\">\n",
       "      <th></th>\n",
       "      <th>Area(km)</th>\n",
       "      <th>Area(mi)</th>\n",
       "      <th>Population</th>\n",
       "    </tr>\n",
       "  </thead>\n",
       "  <tbody>\n",
       "    <tr>\n",
       "      <th>min</th>\n",
       "      <td>4.900000e-01</td>\n",
       "      <td>1.900000e-01</td>\n",
       "      <td>5.600000e+01</td>\n",
       "    </tr>\n",
       "    <tr>\n",
       "      <th>max</th>\n",
       "      <td>1.712524e+07</td>\n",
       "      <td>6.612093e+06</td>\n",
       "      <td>1.405181e+09</td>\n",
       "    </tr>\n",
       "    <tr>\n",
       "      <th>median</th>\n",
       "      <td>6.456200e+04</td>\n",
       "      <td>2.492800e+04</td>\n",
       "      <td>4.475353e+06</td>\n",
       "    </tr>\n",
       "    <tr>\n",
       "      <th>mean</th>\n",
       "      <td>5.432938e+05</td>\n",
       "      <td>2.097769e+05</td>\n",
       "      <td>3.047293e+07</td>\n",
       "    </tr>\n",
       "    <tr>\n",
       "      <th>std</th>\n",
       "      <td>1.716009e+06</td>\n",
       "      <td>6.625517e+05</td>\n",
       "      <td>1.283047e+08</td>\n",
       "    </tr>\n",
       "  </tbody>\n",
       "</table>\n",
       "</div>"
      ],
      "text/plain": [
       "            Area(km)      Area(mi)    Population\n",
       "min     4.900000e-01  1.900000e-01  5.600000e+01\n",
       "max     1.712524e+07  6.612093e+06  1.405181e+09\n",
       "median  6.456200e+04  2.492800e+04  4.475353e+06\n",
       "mean    5.432938e+05  2.097769e+05  3.047293e+07\n",
       "std     1.716009e+06  6.625517e+05  1.283047e+08"
      ]
     },
     "execution_count": 17,
     "metadata": {},
     "output_type": "execute_result"
    }
   ],
   "source": [
    "country_DF.agg({\"Area(km)\": ['min', 'max', 'median', 'mean', 'std'], \"Area(mi)\": ['min', 'max', 'median', 'mean', 'std'], \"Population\": ['min', 'max', 'median', 'mean', 'std']})"
   ]
  },
  {
   "cell_type": "code",
   "execution_count": 18,
   "metadata": {},
   "outputs": [
    {
     "data": {
      "text/html": [
       "<div>\n",
       "<style scoped>\n",
       "    .dataframe tbody tr th:only-of-type {\n",
       "        vertical-align: middle;\n",
       "    }\n",
       "\n",
       "    .dataframe tbody tr th {\n",
       "        vertical-align: top;\n",
       "    }\n",
       "\n",
       "    .dataframe thead th {\n",
       "        text-align: right;\n",
       "    }\n",
       "</style>\n",
       "<table border=\"1\" class=\"dataframe\">\n",
       "  <thead>\n",
       "    <tr style=\"text-align: right;\">\n",
       "      <th></th>\n",
       "      <th>Area(km)</th>\n",
       "      <th>Area(mi)</th>\n",
       "      <th>Population</th>\n",
       "    </tr>\n",
       "  </thead>\n",
       "  <tbody>\n",
       "    <tr>\n",
       "      <th>Area(km)</th>\n",
       "      <td>1.00000</td>\n",
       "      <td>1.000000</td>\n",
       "      <td>0.459150</td>\n",
       "    </tr>\n",
       "    <tr>\n",
       "      <th>Area(mi)</th>\n",
       "      <td>1.00000</td>\n",
       "      <td>1.000000</td>\n",
       "      <td>0.459149</td>\n",
       "    </tr>\n",
       "    <tr>\n",
       "      <th>Population</th>\n",
       "      <td>0.45915</td>\n",
       "      <td>0.459149</td>\n",
       "      <td>1.000000</td>\n",
       "    </tr>\n",
       "  </tbody>\n",
       "</table>\n",
       "</div>"
      ],
      "text/plain": [
       "            Area(km)  Area(mi)  Population\n",
       "Area(km)     1.00000  1.000000    0.459150\n",
       "Area(mi)     1.00000  1.000000    0.459149\n",
       "Population   0.45915  0.459149    1.000000"
      ]
     },
     "execution_count": 18,
     "metadata": {},
     "output_type": "execute_result"
    }
   ],
   "source": [
    "country_DF.corr(method = 'pearson')"
   ]
  },
  {
   "cell_type": "code",
   "execution_count": 19,
   "metadata": {},
   "outputs": [
    {
     "data": {
      "text/html": [
       "<div>\n",
       "<style scoped>\n",
       "    .dataframe tbody tr th:only-of-type {\n",
       "        vertical-align: middle;\n",
       "    }\n",
       "\n",
       "    .dataframe tbody tr th {\n",
       "        vertical-align: top;\n",
       "    }\n",
       "\n",
       "    .dataframe thead th {\n",
       "        text-align: right;\n",
       "    }\n",
       "</style>\n",
       "<table border=\"1\" class=\"dataframe\">\n",
       "  <thead>\n",
       "    <tr style=\"text-align: right;\">\n",
       "      <th></th>\n",
       "      <th>Area(km)</th>\n",
       "      <th>Area(mi)</th>\n",
       "      <th>Population</th>\n",
       "    </tr>\n",
       "  </thead>\n",
       "  <tbody>\n",
       "    <tr>\n",
       "      <th>Area(km)</th>\n",
       "      <td>1.000000</td>\n",
       "      <td>0.996860</td>\n",
       "      <td>0.684123</td>\n",
       "    </tr>\n",
       "    <tr>\n",
       "      <th>Area(mi)</th>\n",
       "      <td>0.996860</td>\n",
       "      <td>1.000000</td>\n",
       "      <td>0.681468</td>\n",
       "    </tr>\n",
       "    <tr>\n",
       "      <th>Population</th>\n",
       "      <td>0.684123</td>\n",
       "      <td>0.681468</td>\n",
       "      <td>1.000000</td>\n",
       "    </tr>\n",
       "  </tbody>\n",
       "</table>\n",
       "</div>"
      ],
      "text/plain": [
       "            Area(km)  Area(mi)  Population\n",
       "Area(km)    1.000000  0.996860    0.684123\n",
       "Area(mi)    0.996860  1.000000    0.681468\n",
       "Population  0.684123  0.681468    1.000000"
      ]
     },
     "execution_count": 19,
     "metadata": {},
     "output_type": "execute_result"
    }
   ],
   "source": [
    "country_DF.corr(method = 'kendall')"
   ]
  },
  {
   "cell_type": "code",
   "execution_count": 20,
   "metadata": {},
   "outputs": [
    {
     "name": "stdout",
     "output_type": "stream",
     "text": [
      "Correlation between Area(km) and Area (mi) 0.9999999713859572\n",
      "Correlation between Area(km) and Population 0.4591503330197717\n",
      "Correlation between Area (mi) and Population 0.4591489129941512\n"
     ]
    }
   ],
   "source": [
    "col_1 = country_DF[\"Area(km)\"]\n",
    "col_2 = country_DF[\"Area(mi)\"]\n",
    "col_3 = country_DF[\"Population\"]\n",
    "corr_1 = col_1.corr(col_2)\n",
    "corr_2 = col_1.corr(col_3)\n",
    "corr_3 = col_2.corr(col_3)\n",
    "print(\"Correlation between Area(km) and Area (mi)\", corr_1)\n",
    "print(\"Correlation between Area(km) and Population\", corr_2)\n",
    "print(\"Correlation between Area (mi) and Population\", corr_3)"
   ]
  },
  {
   "cell_type": "code",
   "execution_count": 21,
   "metadata": {},
   "outputs": [
    {
     "data": {
      "text/plain": [
       "<matplotlib.axes._subplots.AxesSubplot at 0x7fdcf337b340>"
      ]
     },
     "execution_count": 21,
     "metadata": {},
     "output_type": "execute_result"
    },
    {
     "data": {
      "image/png": "[encoded data removed]",
      "text/plain": [
       "<Figure size 432x288 with 1 Axes>"
      ]
     },
     "metadata": {
      "needs_background": "light"
     },
     "output_type": "display_data"
    }
   ],
   "source": [
    "country_DF.plot.scatter(x='Population', y ='Area(km)')"
   ]
  },
  {
   "cell_type": "code",
   "execution_count": null,
   "metadata": {},
   "outputs": [],
   "source": []
  }
 ],
 "metadata": {
  "kernelspec": {
   "display_name": "Python 3",
   "language": "python",
   "name": "python3"
  },
  "language_info": {
   "codemirror_mode": {
    "name": "ipython",
    "version": 3
   },
   "file_extension": ".py",
   "mimetype": "text/x-python",
   "name": "python",
   "nbconvert_exporter": "python",
   "pygments_lexer": "ipython3",
   "version": "3.8.3"
  }
 },
 "nbformat": 4,
 "nbformat_minor": 4
}
