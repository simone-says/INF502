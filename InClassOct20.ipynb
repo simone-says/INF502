{
 "cells": [
  {
   "cell_type": "markdown",
   "metadata": {},
   "source": [
    "Group Members: Simone Gable & Chloe Herman"
   ]
  },
  {
   "cell_type": "code",
   "execution_count": 1,
   "metadata": {},
   "outputs": [],
   "source": [
    "import unittest"
   ]
  },
  {
   "cell_type": "code",
   "execution_count": 2,
   "metadata": {},
   "outputs": [],
   "source": [
    "class Calculator: \n",
    "   def add(x, y):\n",
    "      return x + y \n",
    "\n",
    "   def subtract(x, y): \n",
    "      return x - y \n",
    "\n",
    "   def multiply(x, y): \n",
    "      return x * y \n",
    "\n",
    "   def divide(x, y): \n",
    "      return x / y\n",
    "\n",
    "   def pow(x, y):\n",
    "      res = 1\n",
    "      for i in range(2,y):\n",
    "         res = res*i"
   ]
  },
  {
   "cell_type": "code",
   "execution_count": 3,
   "metadata": {},
   "outputs": [
    {
     "name": "stderr",
     "output_type": "stream",
     "text": [
      "testAddNeg (__main__.AddCalculatorTestCase) ... ok\n",
      "testAddString (__main__.AddCalculatorTestCase) ... FAIL\n",
      "\n",
      "======================================================================\n",
      "FAIL: testAddString (__main__.AddCalculatorTestCase)\n",
      "----------------------------------------------------------------------\n",
      "Traceback (most recent call last):\n",
      "  File \"<ipython-input-3-3decc84dcf3e>\", line 5, in testAddString\n",
      "    self.assertEqual(Calculator.add(\"one\", \"two\"),3, \"Should be integers only\")\n",
      "AssertionError: 'onetwo' != 3 : Should be integers only\n",
      "\n",
      "----------------------------------------------------------------------\n",
      "Ran 2 tests in 0.001s\n",
      "\n",
      "FAILED (failures=1)\n"
     ]
    },
    {
     "data": {
      "text/plain": [
       "<unittest.main.TestProgram at 0x7fb0881e9ca0>"
      ]
     },
     "execution_count": 3,
     "metadata": {},
     "output_type": "execute_result"
    }
   ],
   "source": [
    "class AddCalculatorTestCase(unittest.TestCase):\n",
    "    def testAddNeg(self):\n",
    "        self.assertEqual(Calculator.add(-1, -2), -3, \"Should be -3\")\n",
    "    def testAddString(self):\n",
    "        self.assertEqual(Calculator.add(\"one\", \"two\"),3, \"Should be integers only\")\n",
    "unittest.main(argv=[''], verbosity=2, exit=False)"
   ]
  },
  {
   "cell_type": "code",
   "execution_count": 4,
   "metadata": {},
   "outputs": [],
   "source": [
    "class Calculator: \n",
    "    def add(x, y):\n",
    "        try: \n",
    "            x=x+0\n",
    "            y=y+0\n",
    "        except Exception as error:\n",
    "            print(\"Must be integer value\")\n",
    "        return x + y \n",
    "\n",
    "    def subtract(x, y): \n",
    "        return x - y \n",
    "\n",
    "    def multiply(x, y): \n",
    "        return x * y \n",
    "\n",
    "    def divide(x, y): \n",
    "        return x / y\n",
    "\n",
    "    def pow(x, y):\n",
    "        res = 1\n",
    "        for i in range(2,y):\n",
    "            res = res*i"
   ]
  },
  {
   "cell_type": "code",
   "execution_count": 5,
   "metadata": {},
   "outputs": [
    {
     "name": "stderr",
     "output_type": "stream",
     "text": [
      "testAddNeg (__main__.AddCalculatorTestCase) ... ok\n",
      "testAddString (__main__.AddCalculatorTestCase) ... "
     ]
    },
    {
     "name": "stdout",
     "output_type": "stream",
     "text": [
      "Must be integer value\n"
     ]
    },
    {
     "name": "stderr",
     "output_type": "stream",
     "text": [
      "FAIL\n",
      "\n",
      "======================================================================\n",
      "FAIL: testAddString (__main__.AddCalculatorTestCase)\n",
      "----------------------------------------------------------------------\n",
      "Traceback (most recent call last):\n",
      "  File \"<ipython-input-5-3decc84dcf3e>\", line 5, in testAddString\n",
      "    self.assertEqual(Calculator.add(\"one\", \"two\"),3, \"Should be integers only\")\n",
      "AssertionError: 'onetwo' != 3 : Should be integers only\n",
      "\n",
      "----------------------------------------------------------------------\n",
      "Ran 2 tests in 0.001s\n",
      "\n",
      "FAILED (failures=1)\n"
     ]
    },
    {
     "data": {
      "text/plain": [
       "<unittest.main.TestProgram at 0x7fb0881e99a0>"
      ]
     },
     "execution_count": 5,
     "metadata": {},
     "output_type": "execute_result"
    }
   ],
   "source": [
    "class AddCalculatorTestCase(unittest.TestCase):\n",
    "    def testAddNeg(self):\n",
    "        self.assertEqual(Calculator.add(-1, -2), -3, \"Should be -3\")\n",
    "    def testAddString(self):\n",
    "        self.assertEqual(Calculator.add(\"one\", \"two\"),3, \"Should be integers only\")\n",
    "unittest.main(argv=[''], verbosity=2, exit=False)"
   ]
  },
  {
   "cell_type": "code",
   "execution_count": 6,
   "metadata": {},
   "outputs": [],
   "source": [
    "class Calculator: \n",
    "    def add(x, y):\n",
    "        try: \n",
    "            x=x+0\n",
    "            y=y+0\n",
    "        except Exception as error:\n",
    "            print(\"Must be integer value\")\n",
    "            return False \n",
    "        return x + y \n",
    "\n",
    "    def subtract(x, y): \n",
    "        return x - y \n",
    "\n",
    "    def multiply(x, y): \n",
    "        return x * y \n",
    "\n",
    "    def divide(x, y): \n",
    "        return x / y\n",
    "\n",
    "    def pow(x, y):\n",
    "        res = 1\n",
    "        for i in range(2,y):\n",
    "            res = res*i"
   ]
  },
  {
   "cell_type": "code",
   "execution_count": 7,
   "metadata": {},
   "outputs": [
    {
     "name": "stderr",
     "output_type": "stream",
     "text": [
      "testAdd (__main__.AddCalculatorTestCase) ... ok\n",
      "testAddDict (__main__.AddCalculatorTestCase) ... ok\n",
      "testAddFloat (__main__.AddCalculatorTestCase) ... ok\n",
      "testAddList (__main__.AddCalculatorTestCase) ... ok\n",
      "testAddNeg (__main__.AddCalculatorTestCase) ... ok\n",
      "testAddString (__main__.AddCalculatorTestCase) ... ok\n",
      "testAddTouple (__main__.AddCalculatorTestCase) ... ok\n",
      "testAddZero (__main__.AddCalculatorTestCase) ... "
     ]
    },
    {
     "name": "stdout",
     "output_type": "stream",
     "text": [
      "Must be integer value\n",
      "Must be integer value\n",
      "Must be integer value\n",
      "Must be integer value\n"
     ]
    },
    {
     "name": "stderr",
     "output_type": "stream",
     "text": [
      "ok\n",
      "\n",
      "----------------------------------------------------------------------\n",
      "Ran 8 tests in 0.004s\n",
      "\n",
      "OK\n"
     ]
    },
    {
     "data": {
      "text/plain": [
       "<unittest.main.TestProgram at 0x7fb0881e93d0>"
      ]
     },
     "execution_count": 7,
     "metadata": {},
     "output_type": "execute_result"
    }
   ],
   "source": [
    "class AddCalculatorTestCase(unittest.TestCase):\n",
    "    def testAddNeg(self):\n",
    "        self.assertEqual(Calculator.add(-1, -2), -3, \"Should be -3\")\n",
    "    def testAddString(self):\n",
    "        self.assertFalse(Calculator.add(\"one\", \"two\"), \"Should be integers only\")\n",
    "    def testAddDict(self):\n",
    "        self.assertFalse(Calculator.add({\"Chloe\": 1}, {\"Simone\": 1}), \"Should be integers only\")\n",
    "    def testAddFloat(self):\n",
    "        self.assertEqual(Calculator.add(1.2, 3.5), 4.7)\n",
    "    def testAdd(self):\n",
    "        self.assertEqual(Calculator.add(1, 2), 3, \"Should be 3\")\n",
    "    def testAddTouple(self):\n",
    "        self.assertFalse(Calculator.add((1,2),(2,3,4) ), \"Must be integer value\")\n",
    "    def testAddList(self):\n",
    "        self.assertFalse(Calculator.add([1,2,3],4 ), \"Must be integer value\")\n",
    "    def testAddZero(self):\n",
    "        self.assertEqual(Calculator.add(1, 0), 1, \"Should be 1\")\n",
    "unittest.main(argv=[''], verbosity=2, exit=False)"
   ]
  },
  {
   "cell_type": "code",
   "execution_count": 8,
   "metadata": {},
   "outputs": [],
   "source": [
    "class Calculator: \n",
    "    def add(x, y):\n",
    "        try: \n",
    "            x=x+0\n",
    "            y=y+0\n",
    "        except Exception as error:\n",
    "            print(\"Must be integer value\")\n",
    "            return False \n",
    "        return x + y \n",
    "\n",
    "    def subtract(x, y): \n",
    "        return x - y\n",
    "    def multiply(x, y): \n",
    "        return x * y \n",
    "\n",
    "    def divide(x, y): \n",
    "        return x / y\n",
    "\n",
    "    def pow(x, y):\n",
    "        res = 1\n",
    "        for i in range(2,y):\n",
    "            res = res*i"
   ]
  },
  {
   "cell_type": "code",
   "execution_count": 9,
   "metadata": {},
   "outputs": [
    {
     "name": "stderr",
     "output_type": "stream",
     "text": [
      "testAdd (__main__.AddCalculatorTestCase) ... ok\n",
      "testAddDict (__main__.AddCalculatorTestCase) ... ok\n",
      "testAddFloat (__main__.AddCalculatorTestCase) ... ok\n",
      "testAddList (__main__.AddCalculatorTestCase) ... ok\n",
      "testAddNeg (__main__.AddCalculatorTestCase) ... ok\n",
      "testAddString (__main__.AddCalculatorTestCase) ... ok\n",
      "testAddTouple (__main__.AddCalculatorTestCase) ... ok\n",
      "testAddZero (__main__.AddCalculatorTestCase) ... ok\n",
      "testSubFloat (__main__.SubCalculatorTestCase) ... ok\n",
      "testSubNeg (__main__.SubCalculatorTestCase) ... ok\n",
      "testSubString (__main__.SubCalculatorTestCase) ... "
     ]
    },
    {
     "name": "stdout",
     "output_type": "stream",
     "text": [
      "Must be integer value\n",
      "Must be integer value\n",
      "Must be integer value\n",
      "Must be integer value\n"
     ]
    },
    {
     "name": "stderr",
     "output_type": "stream",
     "text": [
      "ERROR\n",
      "\n",
      "======================================================================\n",
      "ERROR: testSubString (__main__.SubCalculatorTestCase)\n",
      "----------------------------------------------------------------------\n",
      "Traceback (most recent call last):\n",
      "  File \"<ipython-input-9-ec2e418570c9>\", line 7, in testSubString\n",
      "    self.assertFalse(Calculator.subtract(\"one\", \"two\"), \"Should be integers only\")\n",
      "  File \"<ipython-input-8-5b359173d08e>\", line 12, in subtract\n",
      "    return x - y\n",
      "TypeError: unsupported operand type(s) for -: 'str' and 'str'\n",
      "\n",
      "----------------------------------------------------------------------\n",
      "Ran 11 tests in 0.006s\n",
      "\n",
      "FAILED (errors=1)\n"
     ]
    },
    {
     "data": {
      "text/plain": [
       "<unittest.main.TestProgram at 0x7fb038020a00>"
      ]
     },
     "execution_count": 9,
     "metadata": {},
     "output_type": "execute_result"
    }
   ],
   "source": [
    "class SubCalculatorTestCase(unittest.TestCase):\n",
    "    def testSubNeg(self):\n",
    "        self.assertEqual(Calculator.subtract(-1, -2), 1, \"Should be 1\")\n",
    "    def testSubFloat(self):\n",
    "        self.assertEqual(Calculator.subtract(1.2, 3.5), -2.3)\n",
    "    def testSubString(self):\n",
    "        self.assertFalse(Calculator.subtract(\"one\", \"two\"), \"Should be integers only\")\n",
    "    \n",
    "unittest.main(argv=[''], verbosity=2, exit=False)"
   ]
  },
  {
   "cell_type": "code",
   "execution_count": 10,
   "metadata": {},
   "outputs": [],
   "source": [
    "class Calculator: \n",
    "    def add(x, y):\n",
    "        try: \n",
    "            x=x+0\n",
    "            y=y+0\n",
    "        except Exception as error:\n",
    "            print(\"Must be integer value\")\n",
    "            return False \n",
    "        return x + y \n",
    "\n",
    "    def subtract(x, y): \n",
    "        try: \n",
    "            x=x+0\n",
    "            y=y+0\n",
    "        except Exception as error:\n",
    "            print(\"Must be integer value\")\n",
    "            return False \n",
    "        return x - y \n",
    "\n",
    "    def multiply(x, y): \n",
    "        return x * y \n",
    "\n",
    "    def divide(x, y): \n",
    "        return x / y\n",
    "\n",
    "    def pow(x, y):\n",
    "        res = 1\n",
    "        for i in range(2,y):\n",
    "            res = res*i"
   ]
  },
  {
   "cell_type": "code",
   "execution_count": 11,
   "metadata": {},
   "outputs": [
    {
     "name": "stderr",
     "output_type": "stream",
     "text": [
      "testAdd (__main__.AddCalculatorTestCase) ... ok\n",
      "testAddDict (__main__.AddCalculatorTestCase) ... ok\n",
      "testAddFloat (__main__.AddCalculatorTestCase) ... ok\n",
      "testAddList (__main__.AddCalculatorTestCase) ... ok\n",
      "testAddNeg (__main__.AddCalculatorTestCase) ... ok\n",
      "testAddString (__main__.AddCalculatorTestCase) ... ok\n",
      "testAddTouple (__main__.AddCalculatorTestCase) ... ok\n",
      "testAddZero (__main__.AddCalculatorTestCase) ... ok\n",
      "testAddList (__main__.SubCalculatorTestCase) ... ok\n",
      "testSub (__main__.SubCalculatorTestCase) ... ok\n",
      "testSubDict (__main__.SubCalculatorTestCase) ... ok\n",
      "testSubFloat (__main__.SubCalculatorTestCase) ... ok\n",
      "testSubNeg (__main__.SubCalculatorTestCase) ... ok\n",
      "testSubString (__main__.SubCalculatorTestCase) ... ok\n",
      "testSubTouple (__main__.SubCalculatorTestCase) ... "
     ]
    },
    {
     "name": "stdout",
     "output_type": "stream",
     "text": [
      "Must be integer value\n",
      "Must be integer value\n",
      "Must be integer value\n",
      "Must be integer value\n",
      "Must be integer value\n",
      "Must be integer value\n",
      "Must be integer value\n",
      "Must be integer value\n"
     ]
    },
    {
     "name": "stderr",
     "output_type": "stream",
     "text": [
      "ok\n",
      "\n",
      "----------------------------------------------------------------------\n",
      "Ran 15 tests in 0.008s\n",
      "\n",
      "OK\n"
     ]
    },
    {
     "data": {
      "text/plain": [
       "<unittest.main.TestProgram at 0x7fb03801ef10>"
      ]
     },
     "execution_count": 11,
     "metadata": {},
     "output_type": "execute_result"
    }
   ],
   "source": [
    "class SubCalculatorTestCase(unittest.TestCase):\n",
    "    def testSubNeg(self):\n",
    "        self.assertEqual(Calculator.subtract(-1, -2), 1, \"Should be 1\")\n",
    "    def testSubFloat(self):\n",
    "        self.assertEqual(Calculator.subtract(1.2, 3.5), -2.3)\n",
    "    def testSubString(self):\n",
    "        self.assertFalse(Calculator.subtract(\"one\", \"two\"), \"Should be integers only\")\n",
    "    def testSubDict(self):\n",
    "        self.assertFalse(Calculator.subtract({\"Chloe\": 1}, {\"Simone\": 1}), \"Should be integers only\")\n",
    "    def testSub(self):\n",
    "        self.assertEqual(Calculator.subtract(3, 2), 1, \"Should be 1\")\n",
    "    def testSubTouple(self):\n",
    "        self.assertFalse(Calculator.subtract((1,2),(2,3,4) ), \"Must be integer value\")\n",
    "    def testAddList(self):\n",
    "        self.assertFalse(Calculator.subtract([1,2,3],4 ), \"Must be integer value\")\n",
    "unittest.main(argv=[''], verbosity=2, exit=False)"
   ]
  },
  {
   "cell_type": "code",
   "execution_count": 12,
   "metadata": {},
   "outputs": [
    {
     "name": "stderr",
     "output_type": "stream",
     "text": [
      "testAdd (__main__.AddCalculatorTestCase) ... ok\n",
      "testAddDict (__main__.AddCalculatorTestCase) ... ok\n",
      "testAddFloat (__main__.AddCalculatorTestCase) ... ok\n",
      "testAddList (__main__.AddCalculatorTestCase) ... ok\n",
      "testAddNeg (__main__.AddCalculatorTestCase) ... ok\n",
      "testAddString (__main__.AddCalculatorTestCase) ... ok\n",
      "testAddTouple (__main__.AddCalculatorTestCase) ... ok\n",
      "testAddZero (__main__.AddCalculatorTestCase) ... ok\n",
      "testMultFloat (__main__.MultCalculatorTestCase) ... ok\n",
      "testMultNeg (__main__.MultCalculatorTestCase) ... ok\n",
      "testMultString (__main__.MultCalculatorTestCase) ... ERROR\n",
      "testMultZero (__main__.MultCalculatorTestCase) ... ok\n",
      "testAddList (__main__.SubCalculatorTestCase) ... ok\n",
      "testSub (__main__.SubCalculatorTestCase) ... ok\n",
      "testSubDict (__main__.SubCalculatorTestCase) ... ok\n",
      "testSubFloat (__main__.SubCalculatorTestCase) ... ok\n",
      "testSubNeg (__main__.SubCalculatorTestCase) ... ok\n",
      "testSubString (__main__.SubCalculatorTestCase) ... ok\n",
      "testSubTouple (__main__.SubCalculatorTestCase) ... "
     ]
    },
    {
     "name": "stdout",
     "output_type": "stream",
     "text": [
      "Must be integer value\n",
      "Must be integer value\n",
      "Must be integer value\n",
      "Must be integer value\n",
      "Must be integer value\n",
      "Must be integer value\n",
      "Must be integer value\n",
      "Must be integer value\n"
     ]
    },
    {
     "name": "stderr",
     "output_type": "stream",
     "text": [
      "ok\n",
      "\n",
      "======================================================================\n",
      "ERROR: testMultString (__main__.MultCalculatorTestCase)\n",
      "----------------------------------------------------------------------\n",
      "Traceback (most recent call last):\n",
      "  File \"<ipython-input-12-8680d951e93d>\", line 7, in testMultString\n",
      "    self.assertFalse(Calculator.multiply(\"one\", \"two\"), \"Should be integers only\")\n",
      "  File \"<ipython-input-10-64befbe54bab>\", line 21, in multiply\n",
      "    return x * y\n",
      "TypeError: can't multiply sequence by non-int of type 'str'\n",
      "\n",
      "----------------------------------------------------------------------\n",
      "Ran 19 tests in 0.010s\n",
      "\n",
      "FAILED (errors=1)\n"
     ]
    },
    {
     "data": {
      "text/plain": [
       "<unittest.main.TestProgram at 0x7fb038020970>"
      ]
     },
     "execution_count": 12,
     "metadata": {},
     "output_type": "execute_result"
    }
   ],
   "source": [
    "class MultCalculatorTestCase(unittest.TestCase):\n",
    "    def testMultNeg(self):\n",
    "        self.assertEqual(Calculator.multiply(-3, -2), 6, \"Should be 6\")\n",
    "    def testMultFloat(self):\n",
    "        self.assertEqual(Calculator.multiply(1.2, 3.5), 4.2, \"Should be 4.2\")\n",
    "    def testMultString(self):\n",
    "        self.assertFalse(Calculator.multiply(\"one\", \"two\"), \"Should be integers only\")\n",
    "    def testMultZero(self):\n",
    "        self.assertEqual(Calculator.multiply(0, 5), 0, \"Should be 0\")\n",
    "unittest.main(argv=[''], verbosity=2, exit=False)"
   ]
  },
  {
   "cell_type": "code",
   "execution_count": 13,
   "metadata": {},
   "outputs": [],
   "source": [
    "class Calculator: \n",
    "    def add(x, y):\n",
    "        try: \n",
    "            x=x+0\n",
    "            y=y+0\n",
    "        except Exception as error:\n",
    "            print(\"Must be integer value\")\n",
    "            return False \n",
    "        return x + y \n",
    "\n",
    "    def subtract(x, y): \n",
    "        try: \n",
    "            x=x+0\n",
    "            y=y+0\n",
    "        except Exception as error:\n",
    "            print(\"Must be integer value\")\n",
    "            return False \n",
    "        return x - y \n",
    "\n",
    "    def multiply(x, y): \n",
    "        try: \n",
    "            x=x+0\n",
    "            y=y+0\n",
    "        except Exception as error:\n",
    "            print(\"Must be integer value\")\n",
    "            return False\n",
    "        return x * y \n",
    "\n",
    "    def divide(x, y): \n",
    "        return x / y\n",
    "\n",
    "    def pow(x, y):\n",
    "        res = 1\n",
    "        for i in range(2,y):\n",
    "            res = res*i"
   ]
  },
  {
   "cell_type": "code",
   "execution_count": 14,
   "metadata": {},
   "outputs": [
    {
     "name": "stderr",
     "output_type": "stream",
     "text": [
      "testAdd (__main__.AddCalculatorTestCase) ... ok\n",
      "testAddDict (__main__.AddCalculatorTestCase) ... ok\n",
      "testAddFloat (__main__.AddCalculatorTestCase) ... ok\n",
      "testAddList (__main__.AddCalculatorTestCase) ... ok\n",
      "testAddNeg (__main__.AddCalculatorTestCase) ... ok\n",
      "testAddString (__main__.AddCalculatorTestCase) ... ok\n",
      "testAddTouple (__main__.AddCalculatorTestCase) ... ok\n",
      "testAddZero (__main__.AddCalculatorTestCase) ... ok\n",
      "testMultDict (__main__.MultCalculatorTestCase) ... ok\n",
      "testMultFloat (__main__.MultCalculatorTestCase) ... ok\n",
      "testMultNeg (__main__.MultCalculatorTestCase) ... ok\n",
      "testMultString (__main__.MultCalculatorTestCase) ... ok\n",
      "testMultZero (__main__.MultCalculatorTestCase) ... ok\n",
      "testAddList (__main__.SubCalculatorTestCase) ... ok\n",
      "testSub (__main__.SubCalculatorTestCase) ... ok\n",
      "testSubDict (__main__.SubCalculatorTestCase) ... ok\n",
      "testSubFloat (__main__.SubCalculatorTestCase) ... ok\n",
      "testSubNeg (__main__.SubCalculatorTestCase) ... ok\n",
      "testSubString (__main__.SubCalculatorTestCase) ... ok\n",
      "testSubTouple (__main__.SubCalculatorTestCase) ... "
     ]
    },
    {
     "name": "stdout",
     "output_type": "stream",
     "text": [
      "Must be integer value\n",
      "Must be integer value\n",
      "Must be integer value\n",
      "Must be integer value\n",
      "Must be integer value\n",
      "Must be integer value\n",
      "Must be integer value\n",
      "Must be integer value\n",
      "Must be integer value\n",
      "Must be integer value\n"
     ]
    },
    {
     "name": "stderr",
     "output_type": "stream",
     "text": [
      "ok\n",
      "\n",
      "----------------------------------------------------------------------\n",
      "Ran 20 tests in 0.010s\n",
      "\n",
      "OK\n"
     ]
    },
    {
     "data": {
      "text/plain": [
       "<unittest.main.TestProgram at 0x7fb0881ee1c0>"
      ]
     },
     "execution_count": 14,
     "metadata": {},
     "output_type": "execute_result"
    }
   ],
   "source": [
    "class MultCalculatorTestCase(unittest.TestCase):\n",
    "    def testMultNeg(self):\n",
    "        self.assertEqual(Calculator.multiply(-3, -2), 6, \"Should be 6\")\n",
    "    def testMultFloat(self):\n",
    "        self.assertEqual(Calculator.multiply(1.2, 3.5), 4.2, \"Should be 4.2\")\n",
    "    def testMultString(self):\n",
    "        self.assertFalse(Calculator.multiply(\"one\", \"two\"), \"Should be integers only\")\n",
    "    def testMultDict(self):\n",
    "        self.assertFalse(Calculator.multiply({\"Chloe\": 1}, {\"Simone\": 1}), \"Should be integers only\")\n",
    "    def testMultZero(self):\n",
    "        self.assertEqual(Calculator.multiply(0, 5), 0, \"Should be 0\")\n",
    "unittest.main(argv=[''], verbosity=2, exit=False)\n"
   ]
  },
  {
   "cell_type": "code",
   "execution_count": 15,
   "metadata": {},
   "outputs": [
    {
     "name": "stderr",
     "output_type": "stream",
     "text": [
      "testAdd (__main__.AddCalculatorTestCase) ... ok\n",
      "testAddDict (__main__.AddCalculatorTestCase) ... ok\n",
      "testAddFloat (__main__.AddCalculatorTestCase) ... ok\n",
      "testAddList (__main__.AddCalculatorTestCase) ... ok\n",
      "testAddNeg (__main__.AddCalculatorTestCase) ... ok\n",
      "testAddString (__main__.AddCalculatorTestCase) ... ok\n",
      "testAddTouple (__main__.AddCalculatorTestCase) ... ok\n",
      "testAddZero (__main__.AddCalculatorTestCase) ... ok\n",
      "testDivFloat (__main__.DivCalculatorTestCase) ... ok\n",
      "testDivNeg (__main__.DivCalculatorTestCase) ... ok\n",
      "testDivString (__main__.DivCalculatorTestCase) ... ERROR\n",
      "testZeroDiv (__main__.DivCalculatorTestCase) ... ok\n",
      "testMultDict (__main__.MultCalculatorTestCase) ... ok\n",
      "testMultFloat (__main__.MultCalculatorTestCase) ... ok\n",
      "testMultNeg (__main__.MultCalculatorTestCase) ... ok\n",
      "testMultString (__main__.MultCalculatorTestCase) ... ok\n",
      "testMultZero (__main__.MultCalculatorTestCase) ... ok\n",
      "testAddList (__main__.SubCalculatorTestCase) ... ok\n",
      "testSub (__main__.SubCalculatorTestCase) ... ok\n",
      "testSubDict (__main__.SubCalculatorTestCase) ... ok\n",
      "testSubFloat (__main__.SubCalculatorTestCase) ... ok\n",
      "testSubNeg (__main__.SubCalculatorTestCase) ... ok\n",
      "testSubString (__main__.SubCalculatorTestCase) ... ok\n",
      "testSubTouple (__main__.SubCalculatorTestCase) ... "
     ]
    },
    {
     "name": "stdout",
     "output_type": "stream",
     "text": [
      "Must be integer value\n",
      "Must be integer value\n",
      "Must be integer value\n",
      "Must be integer value\n",
      "Must be integer value\n",
      "Must be integer value\n",
      "Must be integer value\n",
      "Must be integer value\n",
      "Must be integer value\n",
      "Must be integer value\n"
     ]
    },
    {
     "name": "stderr",
     "output_type": "stream",
     "text": [
      "ok\n",
      "\n",
      "======================================================================\n",
      "ERROR: testDivString (__main__.DivCalculatorTestCase)\n",
      "----------------------------------------------------------------------\n",
      "Traceback (most recent call last):\n",
      "  File \"<ipython-input-15-355c2e5adf66>\", line 7, in testDivString\n",
      "    self.assertFalse(Calculator.divide(\"one\", \"two\"), \"Should be integers only\")\n",
      "  File \"<ipython-input-13-7efd994801d0>\", line 30, in divide\n",
      "    return x / y\n",
      "TypeError: unsupported operand type(s) for /: 'str' and 'str'\n",
      "\n",
      "----------------------------------------------------------------------\n",
      "Ran 24 tests in 0.012s\n",
      "\n",
      "FAILED (errors=1)\n"
     ]
    },
    {
     "data": {
      "text/plain": [
       "<unittest.main.TestProgram at 0x7fb038020940>"
      ]
     },
     "execution_count": 15,
     "metadata": {},
     "output_type": "execute_result"
    }
   ],
   "source": [
    "class DivCalculatorTestCase(unittest.TestCase):\n",
    "    def testDivNeg(self):\n",
    "        self.assertEqual(Calculator.divide(-4, -2), 2, \"Should be 4\")\n",
    "    def testDivFloat(self):\n",
    "        self.assertEqual(Calculator.divide(4.5, 1), 4.5, \"Should be 4.5\")\n",
    "    def testDivString(self):\n",
    "        self.assertFalse(Calculator.divide(\"one\", \"two\"), \"Should be integers only\")\n",
    "    def testZeroDiv(self):\n",
    "        self.assertEqual(Calculator.divide(0, 5), 0, \"Should be 0\")\n",
    "unittest.main(argv=[''], verbosity=2, exit=False)"
   ]
  },
  {
   "cell_type": "code",
   "execution_count": 16,
   "metadata": {},
   "outputs": [],
   "source": [
    "class Calculator: \n",
    "    def add(x, y):\n",
    "        try: \n",
    "            x=x+0\n",
    "            y=y+0\n",
    "        except Exception as error:\n",
    "            print(\"Must be integer value\")\n",
    "            return False \n",
    "        return x + y \n",
    "\n",
    "    def subtract(x, y): \n",
    "        try: \n",
    "            x=x+0\n",
    "            y=y+0\n",
    "        except Exception as error:\n",
    "            print(\"Must be integer value\")\n",
    "            return False \n",
    "        return x - y \n",
    "\n",
    "    def multiply(x, y): \n",
    "        try: \n",
    "            x=x+0\n",
    "            y=y+0\n",
    "        except Exception as error:\n",
    "            print(\"Must be integer value\")\n",
    "            return False\n",
    "        return x * y \n",
    "\n",
    "    def divide(x, y): \n",
    "        try: \n",
    "            x=x+0\n",
    "            y=y+0\n",
    "        except Exception as error:\n",
    "            print(\"Must be integer value\")\n",
    "            return False\n",
    "        return x / y\n",
    "\n",
    "    def pow(x, y):\n",
    "        res = 1\n",
    "        for i in range(2,y):\n",
    "            res = res*i"
   ]
  },
  {
   "cell_type": "code",
   "execution_count": 17,
   "metadata": {},
   "outputs": [
    {
     "name": "stderr",
     "output_type": "stream",
     "text": [
      "testAdd (__main__.AddCalculatorTestCase) ... ok\n",
      "testAddDict (__main__.AddCalculatorTestCase) ... ok\n",
      "testAddFloat (__main__.AddCalculatorTestCase) ... ok\n",
      "testAddList (__main__.AddCalculatorTestCase) ... ok\n",
      "testAddNeg (__main__.AddCalculatorTestCase) ... ok\n",
      "testAddString (__main__.AddCalculatorTestCase) ... ok\n",
      "testAddTouple (__main__.AddCalculatorTestCase) ... ok\n",
      "testAddZero (__main__.AddCalculatorTestCase) ... ok\n",
      "testDivDict (__main__.DivCalculatorTestCase) ... ok\n",
      "testDivFloat (__main__.DivCalculatorTestCase) ... ok\n",
      "testDivNeg (__main__.DivCalculatorTestCase) ... ok\n",
      "testDivString (__main__.DivCalculatorTestCase) ... ok\n",
      "testDivZero (__main__.DivCalculatorTestCase) ... ERROR\n",
      "testZeroDiv (__main__.DivCalculatorTestCase) ... ok\n",
      "testMultDict (__main__.MultCalculatorTestCase) ... ok\n",
      "testMultFloat (__main__.MultCalculatorTestCase) ... ok\n",
      "testMultNeg (__main__.MultCalculatorTestCase) ... ok\n",
      "testMultString (__main__.MultCalculatorTestCase) ... ok\n",
      "testMultZero (__main__.MultCalculatorTestCase) ... ok\n",
      "testAddList (__main__.SubCalculatorTestCase) ... ok\n",
      "testSub (__main__.SubCalculatorTestCase) ... ok\n",
      "testSubDict (__main__.SubCalculatorTestCase) ... ok\n",
      "testSubFloat (__main__.SubCalculatorTestCase) ... ok\n",
      "testSubNeg (__main__.SubCalculatorTestCase) ... ok\n",
      "testSubString (__main__.SubCalculatorTestCase) ... ok\n",
      "testSubTouple (__main__.SubCalculatorTestCase) ... "
     ]
    },
    {
     "name": "stdout",
     "output_type": "stream",
     "text": [
      "Must be integer value\n",
      "Must be integer value\n",
      "Must be integer value\n",
      "Must be integer value\n",
      "Must be integer value\n",
      "Must be integer value\n",
      "Must be integer value\n",
      "Must be integer value\n",
      "Must be integer value\n",
      "Must be integer value\n",
      "Must be integer value\n",
      "Must be integer value\n"
     ]
    },
    {
     "name": "stderr",
     "output_type": "stream",
     "text": [
      "ok\n",
      "\n",
      "======================================================================\n",
      "ERROR: testDivZero (__main__.DivCalculatorTestCase)\n",
      "----------------------------------------------------------------------\n",
      "Traceback (most recent call last):\n",
      "  File \"<ipython-input-17-3ce5e46f3380>\", line 13, in testDivZero\n",
      "    self.assertEqual(Calculator.divide(5, 0), 0, \"Should be 0\")\n",
      "  File \"<ipython-input-16-e72d4a8e2906>\", line 36, in divide\n",
      "    return x / y\n",
      "ZeroDivisionError: division by zero\n",
      "\n",
      "----------------------------------------------------------------------\n",
      "Ran 26 tests in 0.013s\n",
      "\n",
      "FAILED (errors=1)\n"
     ]
    },
    {
     "data": {
      "text/plain": [
       "<unittest.main.TestProgram at 0x7fb0881e9910>"
      ]
     },
     "execution_count": 17,
     "metadata": {},
     "output_type": "execute_result"
    }
   ],
   "source": [
    " class DivCalculatorTestCase(unittest.TestCase):\n",
    "    def testDivNeg(self):\n",
    "        self.assertEqual(Calculator.divide(-4, -2), 2, \"Should be 4\")\n",
    "    def testDivFloat(self):\n",
    "        self.assertEqual(Calculator.divide(4.5, 1), 4.5, \"Should be 4.5\")\n",
    "    def testDivString(self):\n",
    "        self.assertFalse(Calculator.divide(\"one\", \"two\"), \"Should be integers only\")\n",
    "    def testZeroDiv(self):\n",
    "        self.assertEqual(Calculator.divide(0, 5), 0, \"Should be 0\")\n",
    "    def testDivDict(self):\n",
    "        self.assertFalse(Calculator.divide({\"Chloe\": 1}, {\"Simone\": 1}), \"Should be integers only\")\n",
    "    def testDivZero(self):\n",
    "        self.assertEqual(Calculator.divide(5, 0), 0, \"Should be 0\")\n",
    "unittest.main(argv=[''], verbosity=2, exit=False)"
   ]
  },
  {
   "cell_type": "code",
   "execution_count": 18,
   "metadata": {},
   "outputs": [],
   "source": [
    "class Calculator: \n",
    "    def add(x, y):\n",
    "        try: \n",
    "            x=x+0\n",
    "            y=y+0\n",
    "        except Exception as error:\n",
    "            print(\"Must be integer value\")\n",
    "            return False \n",
    "        return x + y \n",
    "\n",
    "    def subtract(x, y): \n",
    "        try: \n",
    "            x=x+0\n",
    "            y=y+0\n",
    "        except Exception as error:\n",
    "            print(\"Must be integer value\")\n",
    "            return False \n",
    "        return x - y \n",
    "\n",
    "    def multiply(x, y): \n",
    "        try: \n",
    "            x=x+0\n",
    "            y=y+0\n",
    "        except Exception as error:\n",
    "            print(\"Must be integer value\")\n",
    "            return False\n",
    "        return x * y \n",
    "\n",
    "    def divide(x, y): \n",
    "        try: \n",
    "            x=x+0\n",
    "            y=y+0\n",
    "        except Exception as error:\n",
    "            print(\"Must be integer value\")\n",
    "            return False\n",
    "        try: \n",
    "            x/y\n",
    "        except Exception as ZeroDivison: \n",
    "            print( \"can not divide by zero\")\n",
    "            return True\n",
    "        return x / y\n",
    "\n",
    "    def pow(x, y):\n",
    "        res = 1\n",
    "        for i in range(2,y):\n",
    "            res = res*i"
   ]
  },
  {
   "cell_type": "code",
   "execution_count": 19,
   "metadata": {},
   "outputs": [
    {
     "name": "stderr",
     "output_type": "stream",
     "text": [
      "testAdd (__main__.AddCalculatorTestCase) ... ok\n",
      "testAddDict (__main__.AddCalculatorTestCase) ... ok\n",
      "testAddFloat (__main__.AddCalculatorTestCase) ... ok\n",
      "testAddList (__main__.AddCalculatorTestCase) ... ok\n",
      "testAddNeg (__main__.AddCalculatorTestCase) ... ok\n",
      "testAddString (__main__.AddCalculatorTestCase) ... ok\n",
      "testAddTouple (__main__.AddCalculatorTestCase) ... ok\n",
      "testAddZero (__main__.AddCalculatorTestCase) ... ok\n",
      "testDivDict (__main__.DivCalculatorTestCase) ... ok\n",
      "testDivFloat (__main__.DivCalculatorTestCase) ... ok\n",
      "testDivNeg (__main__.DivCalculatorTestCase) ... ok\n",
      "testDivString (__main__.DivCalculatorTestCase) ... ok\n",
      "testDivZero (__main__.DivCalculatorTestCase) ... ok\n",
      "testZeroDiv (__main__.DivCalculatorTestCase) ... ok\n",
      "testMultDict (__main__.MultCalculatorTestCase) ... ok\n",
      "testMultFloat (__main__.MultCalculatorTestCase) ... ok\n",
      "testMultNeg (__main__.MultCalculatorTestCase) ... ok\n",
      "testMultString (__main__.MultCalculatorTestCase) ... ok\n",
      "testMultZero (__main__.MultCalculatorTestCase) ... ok\n",
      "testAddList (__main__.SubCalculatorTestCase) ... ok\n",
      "testSub (__main__.SubCalculatorTestCase) ... ok\n",
      "testSubDict (__main__.SubCalculatorTestCase) ... ok\n",
      "testSubFloat (__main__.SubCalculatorTestCase) ... ok\n",
      "testSubNeg (__main__.SubCalculatorTestCase) ... ok\n",
      "testSubString (__main__.SubCalculatorTestCase) ... ok\n",
      "testSubTouple (__main__.SubCalculatorTestCase) ... "
     ]
    },
    {
     "name": "stdout",
     "output_type": "stream",
     "text": [
      "Must be integer value\n",
      "Must be integer value\n",
      "Must be integer value\n",
      "Must be integer value\n",
      "Must be integer value\n",
      "Must be integer value\n",
      "can not divide by zero\n",
      "Must be integer value\n",
      "Must be integer value\n",
      "Must be integer value\n",
      "Must be integer value\n",
      "Must be integer value\n",
      "Must be integer value\n"
     ]
    },
    {
     "name": "stderr",
     "output_type": "stream",
     "text": [
      "ok\n",
      "\n",
      "----------------------------------------------------------------------\n",
      "Ran 26 tests in 0.013s\n",
      "\n",
      "OK\n"
     ]
    },
    {
     "data": {
      "text/plain": [
       "<unittest.main.TestProgram at 0x7fb038039ac0>"
      ]
     },
     "execution_count": 19,
     "metadata": {},
     "output_type": "execute_result"
    }
   ],
   "source": [
    " class DivCalculatorTestCase(unittest.TestCase):\n",
    "    def testDivNeg(self):\n",
    "        self.assertEqual(Calculator.divide(-4, -2), 2, \"Should be 4\")\n",
    "    def testDivFloat(self):\n",
    "        self.assertEqual(Calculator.divide(4.5, 1), 4.5, \"Should be 4.5\")\n",
    "    def testDivString(self):\n",
    "        self.assertFalse(Calculator.divide(\"one\", \"two\"), \"Should be integers only\")\n",
    "    def testZeroDiv(self):\n",
    "        self.assertEqual(Calculator.divide(0, 5), 0, \"Should be 0\")\n",
    "    def testDivDict(self):\n",
    "        self.assertFalse(Calculator.divide({\"Chloe\": 1}, {\"Simone\": 1}), \"Should be integers only\")\n",
    "    def testDivZero(self):\n",
    "        self.assertTrue(Calculator.divide(5, 0), \"denominator shouldn't be zero\")\n",
    "unittest.main(argv=[''], verbosity=2, exit=False)"
   ]
  },
  {
   "cell_type": "code",
   "execution_count": 20,
   "metadata": {},
   "outputs": [],
   "source": [
    "class Calculator: \n",
    "    def add(x, y):\n",
    "        try: \n",
    "            x=x+0\n",
    "            y=y+0\n",
    "        except Exception as error:\n",
    "            print(\"Must be integer value\")\n",
    "            return False \n",
    "        return x + y \n",
    "\n",
    "    def subtract(x, y): \n",
    "        try: \n",
    "            x=x+0\n",
    "            y=y+0\n",
    "        except Exception as error:\n",
    "            print(\"Must be integer value\")\n",
    "            return False \n",
    "        return x - y \n",
    "\n",
    "    def multiply(x, y): \n",
    "        try: \n",
    "            x=x+0\n",
    "            y=y+0\n",
    "        except Exception as error:\n",
    "            print(\"Must be integer value\")\n",
    "            return False\n",
    "        return x * y \n",
    "\n",
    "    def divide(x, y): \n",
    "        try: \n",
    "            x=x+0\n",
    "            y=y+0\n",
    "        except Exception as error:\n",
    "            print(\"Must be integer value\")\n",
    "            return False\n",
    "        try: \n",
    "            x/y\n",
    "        except Exception as ZeroDivison: \n",
    "            print( \"can not divide by zero\")\n",
    "            return True\n",
    "        return x / y\n",
    "\n",
    "    def pow(x, y):\n",
    "        res = 1\n",
    "        for i in range(2,y):\n",
    "            res = x * i\n",
    "        return res"
   ]
  },
  {
   "cell_type": "code",
   "execution_count": 21,
   "metadata": {},
   "outputs": [
    {
     "name": "stderr",
     "output_type": "stream",
     "text": [
      "testAdd (__main__.AddCalculatorTestCase) ... ok\n",
      "testAddDict (__main__.AddCalculatorTestCase) ... ok\n",
      "testAddFloat (__main__.AddCalculatorTestCase) ... ok\n",
      "testAddList (__main__.AddCalculatorTestCase) ... ok\n",
      "testAddNeg (__main__.AddCalculatorTestCase) ... ok\n",
      "testAddString (__main__.AddCalculatorTestCase) ... ok\n",
      "testAddTouple (__main__.AddCalculatorTestCase) ... ok\n",
      "testAddZero (__main__.AddCalculatorTestCase) ... ok\n",
      "testDivDict (__main__.DivCalculatorTestCase) ... ok\n",
      "testDivFloat (__main__.DivCalculatorTestCase) ... ok\n",
      "testDivNeg (__main__.DivCalculatorTestCase) ... ok\n",
      "testDivString (__main__.DivCalculatorTestCase) ... ok\n",
      "testDivZero (__main__.DivCalculatorTestCase) ... ok\n",
      "testZeroDiv (__main__.DivCalculatorTestCase) ... ok\n",
      "testMultDict (__main__.MultCalculatorTestCase) ... ok\n",
      "testMultFloat (__main__.MultCalculatorTestCase) ... ok\n",
      "testMultNeg (__main__.MultCalculatorTestCase) ... ok\n",
      "testMultString (__main__.MultCalculatorTestCase) ... ok\n",
      "testMultZero (__main__.MultCalculatorTestCase) ... ok\n",
      "testPow (__main__.PowCalculatorTestCase) ... FAIL\n",
      "testAddList (__main__.SubCalculatorTestCase) ... ok\n",
      "testSub (__main__.SubCalculatorTestCase) ... ok\n",
      "testSubDict (__main__.SubCalculatorTestCase) ... ok\n",
      "testSubFloat (__main__.SubCalculatorTestCase) ... ok\n",
      "testSubNeg (__main__.SubCalculatorTestCase) ... ok\n",
      "testSubString (__main__.SubCalculatorTestCase) ... ok\n",
      "testSubTouple (__main__.SubCalculatorTestCase) ... "
     ]
    },
    {
     "name": "stdout",
     "output_type": "stream",
     "text": [
      "Must be integer value\n",
      "Must be integer value\n",
      "Must be integer value\n",
      "Must be integer value\n",
      "Must be integer value\n",
      "Must be integer value\n",
      "can not divide by zero\n",
      "Must be integer value\n",
      "Must be integer value\n",
      "Must be integer value\n",
      "Must be integer value\n",
      "Must be integer value\n",
      "Must be integer value\n"
     ]
    },
    {
     "name": "stderr",
     "output_type": "stream",
     "text": [
      "ok\n",
      "\n",
      "======================================================================\n",
      "FAIL: testPow (__main__.PowCalculatorTestCase)\n",
      "----------------------------------------------------------------------\n",
      "Traceback (most recent call last):\n",
      "  File \"<ipython-input-21-c5ebf0ea1b4c>\", line 3, in testPow\n",
      "    self.assertEqual(Calculator.pow(4, 3), 64, \"Should be 16\")\n",
      "AssertionError: 8 != 64 : Should be 16\n",
      "\n",
      "----------------------------------------------------------------------\n",
      "Ran 27 tests in 0.013s\n",
      "\n",
      "FAILED (failures=1)\n"
     ]
    },
    {
     "data": {
      "text/plain": [
       "<unittest.main.TestProgram at 0x7fb03801e4c0>"
      ]
     },
     "execution_count": 21,
     "metadata": {},
     "output_type": "execute_result"
    }
   ],
   "source": [
    " class PowCalculatorTestCase(unittest.TestCase):\n",
    "    def testPow(self):\n",
    "        self.assertEqual(Calculator.pow(4, 3), 64, \"Should be 16\")\n",
    "unittest.main(argv=[''], verbosity=2, exit=False)"
   ]
  },
  {
   "cell_type": "code",
   "execution_count": 27,
   "metadata": {},
   "outputs": [],
   "source": [
    "class Calculator: \n",
    "    def add(x, y):\n",
    "        try: \n",
    "            x=x+0\n",
    "            y=y+0\n",
    "        except Exception as error:\n",
    "            print(\"Must be integer value\")\n",
    "            return False \n",
    "        return x + y \n",
    "\n",
    "    def subtract(x, y): \n",
    "        try: \n",
    "            x=x+0\n",
    "            y=y+0\n",
    "        except Exception as error:\n",
    "            print(\"Must be integer value\")\n",
    "            return False \n",
    "        return x - y \n",
    "\n",
    "    def multiply(x, y): \n",
    "        try: \n",
    "            x=x+0\n",
    "            y=y+0\n",
    "        except Exception as error:\n",
    "            print(\"Must be integer value\")\n",
    "            return False\n",
    "        return x * y \n",
    "\n",
    "    def divide(x, y): \n",
    "        try: \n",
    "            x=x+0\n",
    "            y=y+0\n",
    "        except Exception as error:\n",
    "            print(\"Must be integer value\")\n",
    "            return False\n",
    "        try: \n",
    "            x/y\n",
    "        except Exception as ZeroDivison: \n",
    "            print( \"can not divide by zero\")\n",
    "            return True\n",
    "        return x / y\n",
    "\n",
    "    def pow(x, y):\n",
    "        res = 1\n",
    "        while y != 0:\n",
    "            res = x * res\n",
    "            y = y - 1 \n",
    "        return res"
   ]
  },
  {
   "cell_type": "code",
   "execution_count": 28,
   "metadata": {},
   "outputs": [
    {
     "name": "stderr",
     "output_type": "stream",
     "text": [
      "testAdd (__main__.AddCalculatorTestCase) ... ok\n",
      "testAddDict (__main__.AddCalculatorTestCase) ... ok\n",
      "testAddFloat (__main__.AddCalculatorTestCase) ... ok\n",
      "testAddList (__main__.AddCalculatorTestCase) ... ok\n",
      "testAddNeg (__main__.AddCalculatorTestCase) ... ok\n",
      "testAddString (__main__.AddCalculatorTestCase) ... ok\n",
      "testAddTouple (__main__.AddCalculatorTestCase) ... ok\n",
      "testAddZero (__main__.AddCalculatorTestCase) ... ok\n",
      "testDivDict (__main__.DivCalculatorTestCase) ... ok\n",
      "testDivFloat (__main__.DivCalculatorTestCase) ... ok\n",
      "testDivNeg (__main__.DivCalculatorTestCase) ... ok\n",
      "testDivString (__main__.DivCalculatorTestCase) ... ok\n",
      "testDivZero (__main__.DivCalculatorTestCase) ... ok\n",
      "testZeroDiv (__main__.DivCalculatorTestCase) ... ok\n",
      "testMultDict (__main__.MultCalculatorTestCase) ... ok\n",
      "testMultFloat (__main__.MultCalculatorTestCase) ... ok\n",
      "testMultNeg (__main__.MultCalculatorTestCase) ... ok\n",
      "testMultString (__main__.MultCalculatorTestCase) ... ok\n",
      "testMultZero (__main__.MultCalculatorTestCase) ... ok\n",
      "testNegPow (__main__.PowCalculatorTestCase) ... ok\n",
      "testPow (__main__.PowCalculatorTestCase) ... ok\n",
      "testAddList (__main__.SubCalculatorTestCase) ... ok\n",
      "testSub (__main__.SubCalculatorTestCase) ... ok\n",
      "testSubDict (__main__.SubCalculatorTestCase) ... ok\n",
      "testSubFloat (__main__.SubCalculatorTestCase) ... ok\n",
      "testSubNeg (__main__.SubCalculatorTestCase) ... ok\n",
      "testSubString (__main__.SubCalculatorTestCase) ... ok\n",
      "testSubTouple (__main__.SubCalculatorTestCase) ... "
     ]
    },
    {
     "name": "stdout",
     "output_type": "stream",
     "text": [
      "Must be integer value\n",
      "Must be integer value\n",
      "Must be integer value\n",
      "Must be integer value\n",
      "Must be integer value\n",
      "Must be integer value\n",
      "can not divide by zero\n",
      "Must be integer value\n",
      "Must be integer value\n",
      "Must be integer value\n",
      "Must be integer value\n",
      "Must be integer value\n",
      "Must be integer value\n"
     ]
    },
    {
     "name": "stderr",
     "output_type": "stream",
     "text": [
      "ok\n",
      "\n",
      "----------------------------------------------------------------------\n",
      "Ran 28 tests in 0.014s\n",
      "\n",
      "OK\n"
     ]
    },
    {
     "data": {
      "text/plain": [
       "<unittest.main.TestProgram at 0x7fb0881e90d0>"
      ]
     },
     "execution_count": 28,
     "metadata": {},
     "output_type": "execute_result"
    }
   ],
   "source": [
    " class PowCalculatorTestCase(unittest.TestCase):\n",
    "    def testPow(self):\n",
    "        self.assertEqual(Calculator.pow(4, 3), 64, \"Should be 16\")\n",
    "    def testNegPow(self):\n",
    "        self.assertEqual(Calculator.pow(4, -3), (1/64) , \"Should be 16\")\n",
    "unittest.main(argv=[''], verbosity=2, exit=False)"
   ]
  },
  {
   "cell_type": "code",
   "execution_count": 30,
   "metadata": {},
   "outputs": [],
   "source": [
    "class Calculator: \n",
    "    def add(x, y):\n",
    "        try: \n",
    "            x=x+0\n",
    "            y=y+0\n",
    "        except Exception as error:\n",
    "            print(\"Must be integer value\")\n",
    "            return False \n",
    "        return x + y \n",
    "\n",
    "    def subtract(x, y): \n",
    "        try: \n",
    "            x=x+0\n",
    "            y=y+0\n",
    "        except Exception as error:\n",
    "            print(\"Must be integer value\")\n",
    "            return False \n",
    "        return x - y \n",
    "\n",
    "    def multiply(x, y): \n",
    "        try: \n",
    "            x=x+0\n",
    "            y=y+0\n",
    "        except Exception as error:\n",
    "            print(\"Must be integer value\")\n",
    "            return False\n",
    "        return x * y \n",
    "\n",
    "    def divide(x, y): \n",
    "        try: \n",
    "            x=x+0\n",
    "            y=y+0\n",
    "        except Exception as error:\n",
    "            print(\"Must be integer value\")\n",
    "            return False\n",
    "        try: \n",
    "            x/y\n",
    "        except Exception as ZeroDivison: \n",
    "            print( \"can not divide by zero\")\n",
    "            return True\n",
    "        return x / y\n",
    "\n",
    "    def pow(x, y):\n",
    "        res = 1\n",
    "        if y < 0:\n",
    "            y = y* - 1 \n",
    "            while y != 0:\n",
    "                res = x * res\n",
    "                y = y - 1 \n",
    "        res = 1/res\n",
    "        while y != 0:\n",
    "            res = x * res\n",
    "            y = y - 1 \n",
    "        return res"
   ]
  },
  {
   "cell_type": "code",
   "execution_count": 33,
   "metadata": {},
   "outputs": [
    {
     "name": "stderr",
     "output_type": "stream",
     "text": [
      "testAdd (__main__.AddCalculatorTestCase) ... ok\n",
      "testAddDict (__main__.AddCalculatorTestCase) ... ok\n",
      "testAddFloat (__main__.AddCalculatorTestCase) ... ok\n",
      "testAddList (__main__.AddCalculatorTestCase) ... ok\n",
      "testAddNeg (__main__.AddCalculatorTestCase) ... ok\n",
      "testAddString (__main__.AddCalculatorTestCase) ... ok\n",
      "testAddTouple (__main__.AddCalculatorTestCase) ... ok\n",
      "testAddZero (__main__.AddCalculatorTestCase) ... ok\n",
      "testDivDict (__main__.DivCalculatorTestCase) ... ok\n",
      "testDivFloat (__main__.DivCalculatorTestCase) ... ok\n",
      "testDivNeg (__main__.DivCalculatorTestCase) ... ok\n",
      "testDivString (__main__.DivCalculatorTestCase) ... ok\n",
      "testDivZero (__main__.DivCalculatorTestCase) ... ok\n",
      "testZeroDiv (__main__.DivCalculatorTestCase) ... ok\n",
      "testMultDict (__main__.MultCalculatorTestCase) ... ok\n",
      "testMultFloat (__main__.MultCalculatorTestCase) ... ok\n",
      "testMultNeg (__main__.MultCalculatorTestCase) ... ok\n",
      "testMultString (__main__.MultCalculatorTestCase) ... ok\n",
      "testMultZero (__main__.MultCalculatorTestCase) ... ok\n",
      "testDivFloat (__main__.PowCalculatorTestCase) ... ok\n",
      "testDivString (__main__.PowCalculatorTestCase) ... ERROR\n",
      "testNegPow (__main__.PowCalculatorTestCase) ... ok\n",
      "testPow (__main__.PowCalculatorTestCase) ... ok\n",
      "testPowZero (__main__.PowCalculatorTestCase) ... ok\n",
      "testZeroPow (__main__.PowCalculatorTestCase) ... ok\n",
      "testAddList (__main__.SubCalculatorTestCase) ... ok\n",
      "testSub (__main__.SubCalculatorTestCase) ... ok\n",
      "testSubDict (__main__.SubCalculatorTestCase) ... ok\n",
      "testSubFloat (__main__.SubCalculatorTestCase) ... ok\n",
      "testSubNeg (__main__.SubCalculatorTestCase) ... ok\n",
      "testSubString (__main__.SubCalculatorTestCase) ... ok\n",
      "testSubTouple (__main__.SubCalculatorTestCase) ... "
     ]
    },
    {
     "name": "stdout",
     "output_type": "stream",
     "text": [
      "Must be integer value\n",
      "Must be integer value\n",
      "Must be integer value\n",
      "Must be integer value\n",
      "Must be integer value\n",
      "Must be integer value\n",
      "can not divide by zero\n",
      "Must be integer value\n",
      "Must be integer value\n",
      "Must be integer value\n",
      "Must be integer value\n",
      "Must be integer value\n",
      "Must be integer value\n"
     ]
    },
    {
     "name": "stderr",
     "output_type": "stream",
     "text": [
      "ok\n",
      "\n",
      "======================================================================\n",
      "ERROR: testDivString (__main__.PowCalculatorTestCase)\n",
      "----------------------------------------------------------------------\n",
      "Traceback (most recent call last):\n",
      "  File \"<ipython-input-33-c8f3017c4f9d>\", line 13, in testDivString\n",
      "    self.assertFalse(Calculator.pow(\"one\", \"two\"), \"Should be integers only\")\n",
      "  File \"<ipython-input-30-6a37608b793c>\", line 45, in pow\n",
      "    if y < 0:\n",
      "TypeError: '<' not supported between instances of 'str' and 'int'\n",
      "\n",
      "----------------------------------------------------------------------\n",
      "Ran 32 tests in 0.013s\n",
      "\n",
      "FAILED (errors=1)\n"
     ]
    },
    {
     "data": {
      "text/plain": [
       "<unittest.main.TestProgram at 0x7fb099797ca0>"
      ]
     },
     "execution_count": 33,
     "metadata": {},
     "output_type": "execute_result"
    }
   ],
   "source": [
    " class PowCalculatorTestCase(unittest.TestCase):\n",
    "    def testPow(self):\n",
    "        self.assertEqual(Calculator.pow(4, 3), 64, \"Should be 64\")\n",
    "    def testNegPow(self):\n",
    "        self.assertEqual(Calculator.pow(4, -3), (1/64) , \"Should be 1/64\")\n",
    "    def testZeroPow(self):\n",
    "        self.assertEqual(Calculator.pow(4, 0), 1 , \"Should be 16\")\n",
    "    def testPowZero(self):\n",
    "        self.assertEqual(Calculator.pow(4, 0), 1 , \"Should be 16\")\n",
    "    def testDivFloat(self):\n",
    "        self.assertEqual(Calculator.pow(4.5, 1), 4.5, \"Should be 4.5\")\n",
    "    def testDivString(self):\n",
    "        self.assertFalse(Calculator.pow(\"one\", \"two\"), \"Should be integers only\")\n",
    "    \n",
    "unittest.main(argv=[''], verbosity=2, exit=False)"
   ]
  },
  {
   "cell_type": "code",
   "execution_count": 35,
   "metadata": {},
   "outputs": [],
   "source": [
    "class Calculator: \n",
    "    def add(x, y):\n",
    "        try: \n",
    "            x=x+0\n",
    "            y=y+0\n",
    "        except Exception as error:\n",
    "            print(\"Must be integer value\")\n",
    "            return False \n",
    "        return x + y \n",
    "\n",
    "    def subtract(x, y): \n",
    "        try: \n",
    "            x=x+0\n",
    "            y=y+0\n",
    "        except Exception as error:\n",
    "            print(\"Must be integer value\")\n",
    "            return False \n",
    "        return x - y \n",
    "\n",
    "    def multiply(x, y): \n",
    "        try: \n",
    "            x=x+0\n",
    "            y=y+0\n",
    "        except Exception as error:\n",
    "            print(\"Must be integer value\")\n",
    "            return False\n",
    "        return x * y \n",
    "\n",
    "    def divide(x, y): \n",
    "        try: \n",
    "            x=x+0\n",
    "            y=y+0\n",
    "        except Exception as error:\n",
    "            print(\"Must be integer value\")\n",
    "            return False\n",
    "        try: \n",
    "            x/y\n",
    "        except Exception as ZeroDivison: \n",
    "            print( \"can not divide by zero\")\n",
    "            return True\n",
    "        return x / y\n",
    "\n",
    "    def pow(x, y):\n",
    "        try: \n",
    "            x=x+0\n",
    "            y=y+0\n",
    "        except Exception as error:\n",
    "            print(\"Must be integer value\")\n",
    "            return False\n",
    "        res = 1\n",
    "        if y < 0:\n",
    "            y = y* - 1 \n",
    "            while y != 0:\n",
    "                res = x * res\n",
    "                y = y - 1 \n",
    "        res = 1/res\n",
    "        while y != 0:\n",
    "            res = x * res\n",
    "            y = y - 1 \n",
    "        return res"
   ]
  },
  {
   "cell_type": "code",
   "execution_count": 37,
   "metadata": {},
   "outputs": [
    {
     "name": "stderr",
     "output_type": "stream",
     "text": [
      "testAdd (__main__.AddCalculatorTestCase) ... ok\n",
      "testAddDict (__main__.AddCalculatorTestCase) ... ok\n",
      "testAddFloat (__main__.AddCalculatorTestCase) ... ok\n",
      "testAddList (__main__.AddCalculatorTestCase) ... ok\n",
      "testAddNeg (__main__.AddCalculatorTestCase) ... ok\n",
      "testAddString (__main__.AddCalculatorTestCase) ... ok\n",
      "testAddTouple (__main__.AddCalculatorTestCase) ... ok\n",
      "testAddZero (__main__.AddCalculatorTestCase) ... ok\n",
      "testDivDict (__main__.DivCalculatorTestCase) ... ok\n",
      "testDivFloat (__main__.DivCalculatorTestCase) ... ok\n",
      "testDivNeg (__main__.DivCalculatorTestCase) ... ok\n",
      "testDivString (__main__.DivCalculatorTestCase) ... ok\n",
      "testDivZero (__main__.DivCalculatorTestCase) ... ok\n",
      "testZeroDiv (__main__.DivCalculatorTestCase) ... ok\n",
      "testMultDict (__main__.MultCalculatorTestCase) ... ok\n",
      "testMultFloat (__main__.MultCalculatorTestCase) ... ok\n",
      "testMultNeg (__main__.MultCalculatorTestCase) ... ok\n",
      "testMultString (__main__.MultCalculatorTestCase) ... ok\n",
      "testMultZero (__main__.MultCalculatorTestCase) ... ok\n",
      "testDivFloat (__main__.PowCalculatorTestCase) ... ok\n",
      "testDivString (__main__.PowCalculatorTestCase) ... ok\n",
      "testNegPow (__main__.PowCalculatorTestCase) ... ok\n",
      "testPow (__main__.PowCalculatorTestCase) ... ok\n",
      "testPowZero (__main__.PowCalculatorTestCase) ... ok\n",
      "testZeroPow (__main__.PowCalculatorTestCase) ... ok\n",
      "testAddList (__main__.SubCalculatorTestCase) ... ok\n",
      "testSub (__main__.SubCalculatorTestCase) ... ok\n",
      "testSubDict (__main__.SubCalculatorTestCase) ... ok\n",
      "testSubFloat (__main__.SubCalculatorTestCase) ... ok\n",
      "testSubNeg (__main__.SubCalculatorTestCase) ... ok\n",
      "testSubString (__main__.SubCalculatorTestCase) ... ok\n",
      "testSubTouple (__main__.SubCalculatorTestCase) ... "
     ]
    },
    {
     "name": "stdout",
     "output_type": "stream",
     "text": [
      "Must be integer value\n",
      "Must be integer value\n",
      "Must be integer value\n",
      "Must be integer value\n",
      "Must be integer value\n",
      "Must be integer value\n",
      "can not divide by zero\n",
      "Must be integer value\n",
      "Must be integer value\n",
      "Must be integer value\n",
      "Must be integer value\n",
      "Must be integer value\n",
      "Must be integer value\n",
      "Must be integer value\n"
     ]
    },
    {
     "name": "stderr",
     "output_type": "stream",
     "text": [
      "ok\n",
      "\n",
      "----------------------------------------------------------------------\n",
      "Ran 32 tests in 0.013s\n",
      "\n",
      "OK\n"
     ]
    },
    {
     "data": {
      "text/plain": [
       "<unittest.main.TestProgram at 0x7fb03803d280>"
      ]
     },
     "execution_count": 37,
     "metadata": {},
     "output_type": "execute_result"
    }
   ],
   "source": [
    " class PowCalculatorTestCase(unittest.TestCase):\n",
    "    def testPow(self):\n",
    "        self.assertEqual(Calculator.pow(4, 3), 64, \"Should be 64\")\n",
    "    def testNegPow(self):\n",
    "        self.assertEqual(Calculator.pow(4, -3), (1/64) , \"Should be 1/64\")\n",
    "    def testZeroPow(self):\n",
    "        self.assertEqual(Calculator.pow(4, 0), 1 , \"Should be 16\")\n",
    "    def testPowZero(self):\n",
    "        self.assertEqual(Calculator.pow(0,4), 0 , \"Should be 16\")\n",
    "    def testDivFloat(self):\n",
    "        self.assertEqual(Calculator.pow(4.5, 1), 4.5, \"Should be 4.5\")\n",
    "    def testDivString(self):\n",
    "        self.assertFalse(Calculator.pow(\"one\", \"two\"), \"Should be integers only\")\n",
    "    \n",
    "unittest.main(argv=[''], verbosity=2, exit=False)"
   ]
  },
  {
   "cell_type": "code",
   "execution_count": null,
   "metadata": {},
   "outputs": [],
   "source": []
  },
  {
   "cell_type": "code",
   "execution_count": null,
   "metadata": {},
   "outputs": [],
   "source": []
  }
 ],
 "metadata": {
  "kernelspec": {
   "display_name": "Python 3",
   "language": "python",
   "name": "python3"
  },
  "language_info": {
   "codemirror_mode": {
    "name": "ipython",
    "version": 3
   },
   "file_extension": ".py",
   "mimetype": "text/x-python",
   "name": "python",
   "nbconvert_exporter": "python",
   "pygments_lexer": "ipython3",
   "version": "3.8.3"
  }
 },
 "nbformat": 4,
 "nbformat_minor": 4
}
