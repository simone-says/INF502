{
 "cells": [
  {
   "cell_type": "code",
   "execution_count": null,
   "metadata": {},
   "outputs": [],
   "source": [
    "periodicTable = {}\n",
    "def main():\n",
    "    periodicTable['Li']=[\"Lithium\", 3, 2, 1]\n",
    "    periodicTable['Na']=[\"Sodium\", 11, 3, 1]\n",
    "    periodicTable['K']=[\"Potassium\", 19, 4, 1]\n",
    "    ## index0 = [\"Element name\", atomic number, row, column]\n",
    "    def menu():\n",
    "        print(\"1. Enter element symbol for information\")\n",
    "        print(\"2. Choose element property to see all elements with a particular property\")\n",
    "        print(\"3. Create a new element\")\n",
    "        print(\"4. Alter attributes of any element by entering the element symbol\")\n",
    "        print(\"5. Exit element program\")"
   ]
  },
  {
   "cell_type": "markdown",
   "metadata": {},
   "source": [
    "Made the dictionary a global variable, then defined main function. Made the element symbols the key and the element name, atomic number, row, and position part of the list. Defined the 'menu' function to print all options to the user."
   ]
  },
  {
   "cell_type": "code",
   "execution_count": null,
   "metadata": {},
   "outputs": [],
   "source": [
    "loop = True\n",
    "    while loop:\n",
    "        menu()\n",
    "        user_input= input(\"Choose a menu option 1-5:\")\n",
    "        if user_input== \"1\":\n",
    "            element_input= str(input(\"Element symbol (e.g. K):\"))\n",
    "            symbol_list=periodicTable[element_input]\n",
    "            print(\"Element\" + element_input + \"'s name is: \" +symbol_list[0] + \"Atomic number is: \" + str(symbol_list[1])+ \"Located in row: \" + str(symbol_list[2]) + \"Located in column: \" + str(symbol_list[3]))\n",
    "        elif user_input== \"2\":\n",
    "            property_input= input(\"Choose one of the following properties: element symbol, element name, atomic number, row, column. (Please use all lowercase):\")\n",
    "            print(property_input)\n",
    "\n",
    "            for property in periodicTable:\n",
    "                symbol_list = periodicTable[property]\n",
    "                if property_input== \"element symbol\":\n",
    "                    print(\"The element symbol is \" +property+ \"for\" +str(symbol_list[0]))\n",
    "                elif property_input== \"element name\":\n",
    "                    print(\"The element name is\"+ str(symbol_list[0]))\n",
    "                elif property_input== \"atomic number\":\n",
    "                    print(\"The atomic number is \" + str(symbol_list[1]))\n",
    "                elif property_input== \"row\":\n",
    "                    print(\"The row position is\" + str(symbol_list[2]))\n",
    "                elif property_input == \"column\":\n",
    "                    print(\"The column position is\"+ str(symbol_list[3]))\n",
    "                else:\n",
    "                    print(\"Please enter an element property (in all lowercase letters).\")"
   ]
  },
  {
   "cell_type": "markdown",
   "metadata": {},
   "source": [
    "Used a While Loop to allow the user to choose an option and enter information within that option, then be returned to the menu list (or exit the program). The user is prompted to choose a menu option, and their input takes them to that option. An 'if' statement is used to list the information for whatever symbol they input, where 'symbol_list' calls the dictionary values and 'element_list' calls the key. These are used in the 'print' function where the index is specified to call on dict values. \n",
    "For option 2, an 'elif' statement is used to prompt the user to choose an element property. Then, a For Loop is used to print out the element attributes with the chosen property. In the 'print' function the properties are called based on index as dict values. An 'else' statement is used to catch any invalid user input and prompt them to enter a property name. "
   ]
  },
  {
   "cell_type": "code",
   "execution_count": null,
   "metadata": {},
   "outputs": [],
   "source": [
    "        elif user_input== \"3\":\n",
    "            symbol= input(\"New element symbol:\")\n",
    "            name= input(\"New element name:\")\n",
    "            atomic_num= int(input(\"New element atomic number:\"))\n",
    "            row= int(input(\"New element row position:\"))\n",
    "            column= int(input(\"New element column position:\"))\n",
    "            periodicTable[symbol]=[name, atomic_num, row, column]"
   ]
  },
  {
   "cell_type": "markdown",
   "metadata": {},
   "source": [
    "Used 'elif' statement for option 3 to allow the user to create a new element and input all of the corresponding attributes. The last 3 values asked for integers to prevent the user from inputting an invalid entry. Then the last line uses an assignment operator with the dictionary key to enter the information for the new element. "
   ]
  },
  {
   "cell_type": "code",
   "execution_count": null,
   "metadata": {},
   "outputs": [],
   "source": [
    "        elif user_input==\"4\":\n",
    "            sym_change= input(\"Enter the symbol for the element you want to change:\")\n",
    "            symbol_list= periodicTable[sym_change]\n",
    "            nameChange= input(\"Change element name, or enter original name to continue:\")\n",
    "            symbol_list[0]= nameChange\n",
    "            atomic_num= int(input(\"Change atomic number value, or enter original atomic number to continue:\"))\n",
    "            symbol_list[1]=atomic_num\n",
    "            rowChange= int(input(\"Change row position value, or enter original row value to continue:\"))\n",
    "            symbol_list[2]=rowChange\n",
    "            columnChange=int(input(\"Change column position value, or enter original column value to continue:\"))\n",
    "            symbol_list[3]=columnChange\n",
    "        elif user_input== \"5\":\n",
    "            print(\"Exiting Periodic Table Program.\")\n",
    "            loop = False\n",
    "        else:\n",
    "            print(\"ERROR: Please choose an option 1-5.\")\n",
    "main()"
   ]
  },
  {
   "cell_type": "markdown",
   "metadata": {},
   "source": [
    "Used 'elif' statement for option 4 that allows the user to go through each attribute of an element they want to alter (using the input function), calling on dict values with their index and then prompting the user to enter a new value (or key in the case of element symbol). For option 5, an 'elif' statement is used and the condition is set to FALSE to take the user out of the program. Lastly, the 'else' statement catches any invalid entry from the user and prompts them to choose one of the listed options. "
   ]
  }
 ],
 "metadata": {
  "kernelspec": {
   "display_name": "Python 3",
   "language": "python",
   "name": "python3"
  },
  "language_info": {
   "codemirror_mode": {
    "name": "ipython",
    "version": 3
   },
   "file_extension": ".py",
   "mimetype": "text/x-python",
   "name": "python",
   "nbconvert_exporter": "python",
   "pygments_lexer": "ipython3",
   "version": "3.8.3"
  }
 },
 "nbformat": 4,
 "nbformat_minor": 4
}
